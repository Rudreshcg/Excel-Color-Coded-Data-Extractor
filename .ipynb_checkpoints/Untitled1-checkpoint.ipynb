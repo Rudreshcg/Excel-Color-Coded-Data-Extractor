{
 "cells": [
  {
   "cell_type": "code",
   "execution_count": null,
   "id": "fdb141db",
   "metadata": {},
   "outputs": [],
   "source": [
    "\n",
    "import win32com.client\n",
    "\n",
    "def rgb_to_hex(rgb):\n",
    "    return \"#{:02x}{:02x}{:02x}\".format(rgb[0], rgb[1], rgb[2])\n",
    "\n",
    "try:\n",
    "    # Open Excel application\n",
    "    excel_app = win32com.client.Dispatch(\"Excel.Application\")\n",
    "\n",
    "    # Open the Excel file\n",
    "    file_path = '/OSS1.xls'\n",
    "    workbook = excel_app.Workbooks.Open(file_path)\n",
    "    sheet_names = ['General Information', 'Assets & Liabilities']\n",
    "\n",
    "    # Define the target background color as RGB\n",
    "    target_bg_color = (153, 204, 255)  # RGB value for #99ccff\n",
    "\n",
    "    # Specify the column index (0-based) to check for background color\n",
    "    target_col_index = 1  # Assuming the second column (index 1)\n",
    "\n",
    "    # Loop through the sheets and display data\n",
    "    for sheet_name in sheet_names:\n",
    "        sheet = workbook.Sheets(sheet_name)\n",
    "        print(f\"Sheet: {sheet_name}\")\n",
    "\n",
    "        # Get the used range of the sheet\n",
    "        used_range = sheet.UsedRange\n",
    "\n",
    "        # Iterate through the rows\n",
    "        for row in used_range.Rows:\n",
    "            cell = row.Cells(1, target_col_index + 1)  # Adjust for 1-based index\n",
    "            cell_color = cell.Interior.Color\n",
    "            if cell_color == rgb_to_hex(target_bg_color):\n",
    "                for cell in row.Cells:\n",
    "                    formula = cell.Formula\n",
    "                    if formula:\n",
    "                        print(f\"Cell ({cell.Address}): Formula: {formula}\")\n",
    "                print(\"\\n\")\n",
    "\n",
    "except Exception as e:\n",
    "    print(f\"An error occurred: {e}\")\n",
    "\n",
    "finally:\n",
    "    if 'workbook' in locals():\n",
    "        workbook.Close(False)  \n",
    "    if 'excel_app' in locals():\n",
    "        excel_app.Quit()"
   ]
  }
 ],
 "metadata": {
  "kernelspec": {
   "display_name": "Python 3 (ipykernel)",
   "language": "python",
   "name": "python3"
  },
  "language_info": {
   "codemirror_mode": {
    "name": "ipython",
    "version": 3
   },
   "file_extension": ".py",
   "mimetype": "text/x-python",
   "name": "python",
   "nbconvert_exporter": "python",
   "pygments_lexer": "ipython3",
   "version": "3.10.12"
  }
 },
 "nbformat": 4,
 "nbformat_minor": 5
}
